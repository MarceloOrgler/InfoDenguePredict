{
 "cells": [
  {
   "cell_type": "code",
   "execution_count": 1,
   "metadata": {},
   "outputs": [
    {
     "name": "stderr",
     "output_type": "stream",
     "text": [
      "Failed to import duecredit due to No module named 'duecredit'\n"
     ]
    }
   ],
   "source": [
    "import numpy as np\n",
    "import pandas as pd\n",
    "import os\n",
    "from sklearn.ensemble import RandomForestRegressor\n",
    "from sklearn.model_selection import train_test_split\n",
    "from sklearn.metrics import *\n",
    "import pickle\n",
    "import forestci as fci\n",
    "import matplotlib.pyplot as plt\n",
    "from infodengue import get_cluster_data, get_city_names, combined_data, get_alerta_table\n",
    "from predict_settings import *\n",
    "from skgarden import RandomForestQuantileRegressor"
   ]
  },
  {
   "cell_type": "code",
   "execution_count": 24,
   "metadata": {},
   "outputs": [],
   "source": [
    "quantile=10"
   ]
  },
  {
   "cell_type": "code",
   "execution_count": 25,
   "metadata": {},
   "outputs": [],
   "source": [
    "def get_cities_from_state(state):\n",
    "    alerta_table = get_alerta_table(state=state)\n",
    "    cities_list = alerta_table.municipio_geocodigo.unique()\n",
    "    return cities_list\n"
   ]
  },
  {
   "cell_type": "code",
   "execution_count": 26,
   "metadata": {},
   "outputs": [],
   "source": [
    "def build_model(**kwargs):\n",
    "    model= RandomForestQuantileRegressor(random_state=0, min_samples_split=10, n_estimators=1000,n_jobs=-1)\n",
    "    #model = RandomForestRegressor(max_depth=None, random_state=0, n_jobs=-1,\n",
    "    #                             n_estimators=1000,\n",
    "    #                              warm_start=True)\n",
    "    return model"
   ]
  },
  {
   "cell_type": "code",
   "execution_count": 27,
   "metadata": {},
   "outputs": [],
   "source": [
    "def build_lagged_features(dt, lag=2, dropna=True):\n",
    "    '''\n",
    "    Builds a new DataFrame to facilitate regressing over all possible lagged features\n",
    "    :param dt: Dataframe containing features\n",
    "    :param lag: maximum lags to compute\n",
    "    :param dropna: if true the initial rows containing NANs due to lagging will be dropped\n",
    "    :return: Dataframe\n",
    "    '''\n",
    "    if type(dt) is pd.DataFrame:\n",
    "        new_dict = {}\n",
    "        for col_name in dt:\n",
    "            new_dict[col_name] = dt[col_name]\n",
    "            # create lagged Series\n",
    "            for l in range(1, lag + 1):\n",
    "                new_dict['%s_lag%d' % (col_name, l)] = dt[col_name].shift(l)\n",
    "        res = pd.DataFrame(new_dict, index=dt.index)\n",
    "\n",
    "    elif type(dt) is pd.Series:\n",
    "        the_range = range(lag + 1)\n",
    "        res = pd.concat([dt.shift(-i) for i in the_range], axis=1)\n",
    "        res.columns = ['lag_%d' % i for i in the_range]\n",
    "    else:\n",
    "        print('Only works for DataFrame or Series')\n",
    "        return None\n",
    "    if dropna:\n",
    "        return res.dropna()\n",
    "    else:\n",
    "        return res"
   ]
  },
  {
   "cell_type": "code",
   "execution_count": 28,
   "metadata": {},
   "outputs": [],
   "source": [
    "def rolling_forecasts(data, target, window=12, horizon=1):\n",
    "    \"\"\"\n",
    "    Fits the rolling forecast model\n",
    "    :param data: feature Dataframe\n",
    "    :param window: lookback window\n",
    "    :param horizon: forecast horizon\n",
    "    :param target: variable to be forecasted\n",
    "    :return:\n",
    "    \"\"\"\n",
    "    model = build_model()\n",
    "    model.fit(data.values, target)\n",
    "    # for i in range(0, ldf.shape[0] - window):\n",
    "    #     model.fit(ldf.values[i:i + window, :], ldf['target'].values[i:i + window])\n",
    "\n",
    "    return model"
   ]
  },
  {
   "cell_type": "code",
   "execution_count": 29,
   "metadata": {},
   "outputs": [],
   "source": [
    "def calculate_metrics(pred, ytrue):\n",
    "    return [mean_absolute_error(ytrue, pred, ), explained_variance_score(ytrue, pred),\n",
    "            mean_squared_error(ytrue, pred), mean_squared_log_error(ytrue, pred),\n",
    "            median_absolute_error(ytrue, pred), r2_score(ytrue, pred)]"
   ]
  },
  {
   "cell_type": "code",
   "execution_count": 30,
   "metadata": {},
   "outputs": [],
   "source": [
    "def plot_prediction(preds, ydata, title, train_size, path='random_forest'):\n",
    "    plt.clf()\n",
    "    plt.plot(ydata, 'k-')\n",
    "\n",
    "    point = ydata.index[train_size]\n",
    "\n",
    "    min_val = min([min(ydata), np.nanmin(preds)])\n",
    "    max_val = max([max(ydata), np.nanmax(preds)])\n",
    "    plt.vlines(point, min_val, max_val, 'g', 'dashdot', lw=2)\n",
    "\n",
    "    pred_window = preds.shape[1]\n",
    "    llist = range(len(ydata.index) - (preds.shape[1]))\n",
    "    print(type(preds))\n",
    "\n",
    "    # # for figure with all predicted points\n",
    "    # for n in llist:\n",
    "    #     plt.vlines(ydata.index[n + pred_window], 0, preds[n][-1], 'b', alpha=0.2)\n",
    "    #     plt.plot(ydata.index[n:n + pred_window], preds[n], 'r')\n",
    "\n",
    "    # for figure with only the last prediction point (single red line)\n",
    "    x = []\n",
    "    y = []\n",
    "    for n in llist:\n",
    "        plt.vlines(ydata.index[n + pred_window], 0, preds[n][-1], 'b', alpha=0.2)\n",
    "        x.append(ydata.index[n+pred_window])\n",
    "        y.append(preds[n][-1])\n",
    "    plt.plot(x, y, 'r-', alpha=0.7)\n",
    "\n",
    "    plt.text(point, 0.6 * max_val, \"Out of sample Predictions\")\n",
    "    plt.grid()\n",
    "    plt.ylabel('indices')\n",
    "    plt.legend(loc=0)\n",
    "    plt.title('Predictions for {}'.format(title))\n",
    "    plt.xticks(rotation=70)\n",
    "    plt.legend(['data', 'predicted'])\n",
    "\n",
    "    plt.savefig('saved_models/{}/{}/rf_{}_ss.png'.format(path, STATE, title), dpi=300)\n",
    "    plt.show()\n",
    "    return None"
   ]
  },
  {
   "cell_type": "markdown",
   "metadata": {},
   "source": [
    "def confidence_interval(model, Xtrain, Xtest):\n",
    "    inbag = fci.calc_inbag(Xtrain.shape[0], model)\n",
    "    ci = fci.random_forest_error(model, Xtrain.values, Xtest.values, inbag=inbag)\n",
    "    return ci"
   ]
  },
  {
   "cell_type": "code",
   "execution_count": 31,
   "metadata": {},
   "outputs": [],
   "source": [
    "def rf_prediction(city, state, horizon, lookback):\n",
    "    with open('../analysis/clusters_{}.pkl'.format(state), 'rb') as fp:\n",
    "        clusters = pickle.load(fp)\n",
    "    data, group = get_cluster_data(city, clusters=clusters, data_types=DATA_TYPES, cols=PREDICTORS)\n",
    "\n",
    "    target = 'casos_est_{}'.format(city)\n",
    "    casos_est_columns = ['casos_est_{}'.format(i) for i in group]\n",
    "    # casos_columns = ['casos_{}'.format(i) for i in group]\n",
    "\n",
    "    # data = data_full.drop(casos_columns, axis=1)\n",
    "    data_lag = build_lagged_features(data, lookback)\n",
    "    data_lag.dropna()\n",
    "    targets = {}\n",
    "    for d in range(1, horizon + 1):\n",
    "        if d == 1:\n",
    "            targets[d] = data_lag[target].shift(-(d - 1))\n",
    "        else:\n",
    "            targets[d] = data_lag[target].shift(-(d - 1))[:-(d - 1)]\n",
    "\n",
    "    X_data = data_lag.drop(casos_est_columns, axis=1)\n",
    "    X_train, X_test, y_train, y_test = train_test_split(X_data, data_lag[target],\n",
    "                                                        train_size=0.7, test_size=0.3, shuffle=False)\n",
    "\n",
    "    city_name = get_city_names([city, 0])[0][1]\n",
    "    preds = np.empty((len(data_lag), horizon))\n",
    "    metrics = pd.DataFrame(index=('mean_absolute_error', 'explained_variance_score',\n",
    "                                  'mean_squared_error', 'mean_squared_log_error',\n",
    "                                  'median_absolute_error', 'r2_score'))\n",
    "    for d in range(1, horizon + 1):\n",
    "        tgt = targets[d][:len(X_train)]\n",
    "        tgtt = targets[d][len(X_train):]\n",
    "\n",
    "        model = rolling_forecasts(X_train, target=tgt, horizon=horizon)\n",
    "        pred = model.predict(X_data[:len(targets[d])],quantile=quantile)\n",
    "\n",
    "        dif = len(data_lag) - len(pred)\n",
    "        if dif > 0:\n",
    "            pred = list(pred) + ([np.nan] * dif)\n",
    "        preds[:, (d - 1)] = pred\n",
    "\n",
    "        pred_m = model.predict(X_test[(d - 1):],quantile=quantile)\n",
    "        metrics[d] = calculate_metrics(pred_m, tgtt)\n",
    "\n",
    "    metrics.to_pickle('{}/{}/rf_metrics_{}.pkl'.format('saved_models/random_forest', state, city))\n",
    "    plot_prediction(preds, targets[1], city_name, len(X_train))\n",
    "\n",
    "    return preds, X_train, targets, data_lag"
   ]
  },
  {
   "cell_type": "code",
   "execution_count": 32,
   "metadata": {},
   "outputs": [],
   "source": [
    "def rf_single_state_prediction(state, lookback, horizon, predictors):\n",
    "    # # RF WITHOUT CLUSTER SERIES\n",
    "    if state == \"CE\":\n",
    "        s = 'Ceará'\n",
    "    else:\n",
    "        s = state\n",
    "    cities = list(get_cities_from_state(s))\n",
    "\n",
    "    for city in cities:\n",
    "        if os.path.isfile('/saved_models/random_forest_no_cluster/{}/rf_metrics_{}.pkl'.format(state, city)):\n",
    "            print(city, 'done')\n",
    "            continue\n",
    "        data = combined_data(city, DATA_TYPES)\n",
    "        data = data[predictors]\n",
    "        data.drop('casos', axis=1, inplace=True)\n",
    "\n",
    "        target = 'casos_est'\n",
    "        data_lag = build_lagged_features(data, lookback)\n",
    "        data_lag.dropna()\n",
    "        targets = {}\n",
    "        for d in range(1, horizon + 1):\n",
    "            if d == 1:\n",
    "                targets[d] = data_lag[target].shift(-(d - 1))\n",
    "            else:\n",
    "                targets[d] = data_lag[target].shift(-(d - 1))[:-(d - 1)]\n",
    "\n",
    "        X_data = data_lag.drop(target, axis=1)\n",
    "        X_train, X_test, y_train, y_test = train_test_split(X_data, data_lag[target],\n",
    "                                                            train_size=0.7, test_size=0.3, shuffle=False)\n",
    "\n",
    "        city_name = get_city_names([city, 0])[0][1]\n",
    "        preds = np.empty((len(data_lag), horizon))\n",
    "        metrics = pd.DataFrame(index=('mean_absolute_error', 'explained_variance_score',\n",
    "                                      'mean_squared_error', 'mean_squared_log_error',\n",
    "                                      'median_absolute_error', 'r2_score'))\n",
    "        for d in range(1, horizon + 1):\n",
    "            tgt = targets[d][:len(X_train)]\n",
    "            tgtt = targets[d][len(X_train):]\n",
    "\n",
    "            model = rolling_forecasts(X_train, target=tgt, horizon=horizon)\n",
    "            pred = model.predict(X_data[:len(targets[d])],quantile=quantile)\n",
    "\n",
    "            dif = len(data_lag) - len(pred)\n",
    "            if dif > 0:\n",
    "                pred = list(pred) + ([np.nan] * dif)\n",
    "            preds[:, (d - 1)] = pred\n",
    "\n",
    "            pred_m = model.predict(X_test[(d - 1):])\n",
    "            metrics[d] = calculate_metrics(pred_m, tgtt)\n",
    "\n",
    "        metrics.to_pickle('{}/{}/rf_metrics_{}.pkl'.format('saved_models/random_forest_no_cluster', state, city))\n",
    "        plot_prediction(preds, targets[1], city_name, len(X_train))\n",
    "        # plt.show()\n",
    "    return None"
   ]
  },
  {
   "cell_type": "code",
   "execution_count": 33,
   "metadata": {},
   "outputs": [],
   "source": [
    "def rf_state_prediction(state, lookback, horizon, predictors):\n",
    "    clusters = pd.read_pickle('../analysis/clusters_{}.pkl'.format(state))\n",
    "\n",
    "    for cluster in clusters:\n",
    "        data_full, group = get_cluster_data(geocode=cluster[0], clusters=clusters,\n",
    "                                       data_types=DATA_TYPES, cols=predictors)\n",
    "        for city in cluster:\n",
    "            if os.path.isfile('/home/elisa/Documentos/InfoDenguePredict/infodenguepredict/models/saved_models/{}/rf_metrics_{}.pkl'.format(state, city)):\n",
    "                print('done')\n",
    "                continue\n",
    "\n",
    "            target = 'casos_est_{}'.format(city)\n",
    "            casos_est_columns = ['casos_est_{}'.format(i) for i in group]\n",
    "            # casos_columns = ['casos_{}'.format(i) for i in group]\n",
    "\n",
    "            # data = data_full.drop(casos_columns, axis=1)\n",
    "            data_lag = build_lagged_features(data_full, lookback)\n",
    "            data_lag.dropna()\n",
    "            targets = {}\n",
    "            for d in range(1, horizon + 1):\n",
    "                if d == 1:\n",
    "                    targets[d] = data_lag[target].shift(-(d - 1))\n",
    "                else:\n",
    "                    targets[d] = data_lag[target].shift(-(d - 1))[:-(d - 1)]\n",
    "\n",
    "            X_data = data_lag.drop(casos_est_columns, axis=1)\n",
    "            X_train, X_test, y_train, y_test = train_test_split(X_data, data_lag[target],\n",
    "                                                                train_size=0.7, test_size=0.3, shuffle=False)\n",
    "\n",
    "            city_name = get_city_names([city, 0])[0][1]\n",
    "            preds = np.empty((len(data_lag), horizon))\n",
    "            metrics = pd.DataFrame(index=('mean_absolute_error', 'explained_variance_score',\n",
    "                                          'mean_squared_error', 'mean_squared_log_error',\n",
    "                                          'median_absolute_error', 'r2_score'))\n",
    "            for d in range(1, horizon + 1):\n",
    "                tgt = targets[d][:len(X_train)]\n",
    "                tgtt = targets[d][len(X_train):]\n",
    "\n",
    "                model = rolling_forecasts(X_train, target=tgt, horizon=horizon)\n",
    "                pred = model.predict(X_data[:len(targets[d])],quantile=quantile)\n",
    "\n",
    "                dif = len(data_lag) - len(pred)\n",
    "                if dif > 0:\n",
    "                    pred = list(pred) + ([np.nan] * dif)\n",
    "                preds[:, (d - 1)] = pred\n",
    "\n",
    "                pred_m = model.predict(X_test[(d-1):])\n",
    "                metrics[d] = calculate_metrics(pred_m, tgtt)\n",
    "\n",
    "            metrics.to_pickle('{}/{}/rf_metrics_{}.pkl'.format('saved_models/random_forest', state, city))\n",
    "            plot_prediction(preds, targets[1], city_name, len(X_train))\n",
    "            # plt.show()\n",
    "    return None"
   ]
  },
  {
   "cell_type": "code",
   "execution_count": 34,
   "metadata": {},
   "outputs": [
    {
     "name": "stderr",
     "output_type": "stream",
     "text": [
      "C:\\Users\\marcelo\\AppData\\Local\\Continuum\\anaconda3\\lib\\site-packages\\pandas\\core\\groupby\\groupby.py:1062: RuntimeWarning: Mean of empty slice\n",
      "  f = lambda x: func(x, *args, **kwargs)\n"
     ]
    },
    {
     "name": "stdout",
     "output_type": "stream",
     "text": [
      "<class 'numpy.ndarray'>\n"
     ]
    },
    {
     "data": {
      "image/png": "[encoded data removed]",
      "text/plain": [
       "<Figure size 432x288 with 1 Axes>"
      ]
     },
     "metadata": {
      "needs_background": "light"
     },
     "output_type": "display_data"
    }
   ],
   "source": [
    "if __name__ == \"__main__\":\n",
    "    # target = 'casos_est_{}'.format(CITY)\n",
    "    # preds = rf_prediction(CITY, STATE, target, PREDICTION_WINDOW, LOOK_BACK)\n",
    "    # for STATE in ['RJ', 'PR', 'CE']:\n",
    "        # rf_state_prediction(STATE, LOOK_BACK, PREDICTION_WINDOW, PREDICTORS)\n",
    "        # rf_single_state_prediction(STATE, LOOK_BACK, PREDICTION_WINDOW, PREDICTORS)\n",
    "\n",
    "    rf_prediction(CITY, STATE, horizon=PREDICTION_WINDOW, lookback=LOOK_BACK)"
   ]
  }
 ],
 "metadata": {
  "kernelspec": {
   "display_name": "Python 3",
   "language": "python",
   "name": "python3"
  },
  "language_info": {
   "codemirror_mode": {
    "name": "ipython",
    "version": 3
   },
   "file_extension": ".py",
   "mimetype": "text/x-python",
   "name": "python",
   "nbconvert_exporter": "python",
   "pygments_lexer": "ipython3",
   "version": "3.7.1"
  }
 },
 "nbformat": 4,
 "nbformat_minor": 2
}
